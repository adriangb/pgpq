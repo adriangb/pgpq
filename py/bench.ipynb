{
 "cells": [
  {
   "cell_type": "code",
   "execution_count": 1,
   "metadata": {},
   "outputs": [],
   "source": [
    "import pyarrow as pa\n",
    "import pyarrow.parquet as pq\n",
    "from pgpq import ArrowToPostgresBinaryEncoder"
   ]
  },
  {
   "cell_type": "code",
   "execution_count": 2,
   "metadata": {},
   "outputs": [],
   "source": [
    "arrow_table = pq.read_table(\"tests/testdata/yellow_tripdata_2022-01.parquet\")\n",
    "\n",
    "# use just the first row until https://github.com/apache/arrow-rs/issues/3646 gets resolved\n",
    "batch = pa.RecordBatch.from_pylist(next(iter(arrow_table.slice(0, 1).to_batches())).to_pylist())\n",
    "small_batches = [pa.RecordBatch.from_pylist(batch.to_pylist() * 100)]\n",
    "large_batches = [pa.RecordBatch.from_pylist(batch.to_pylist() * 10_000) for _ in range(10_000)]  # 10k batches of 10k rows = 100m"
   ]
  },
  {
   "cell_type": "code",
   "execution_count": 3,
   "metadata": {},
   "outputs": [],
   "source": [
    "def encode(batches) -> None:\n",
    "    encoder = ArrowToPostgresBinaryEncoder(arrow_table.schema)\n",
    "    encoder.write_header()\n",
    "    for batch in batches:\n",
    "        encoder.write_batch(batch)\n",
    "    encoder.finish()\n"
   ]
  },
  {
   "cell_type": "code",
   "execution_count": 4,
   "metadata": {},
   "outputs": [
    {
     "name": "stdout",
     "output_type": "stream",
     "text": [
      "71.8 µs ± 1.08 µs per loop (mean ± std. dev. of 7 runs, 10,000 loops each)\n"
     ]
    }
   ],
   "source": [
    "%timeit encode(small_batches)"
   ]
  },
  {
   "cell_type": "code",
   "execution_count": 5,
   "metadata": {},
   "outputs": [
    {
     "name": "stdout",
     "output_type": "stream",
     "text": [
      "28.74977469444275\n"
     ]
    }
   ],
   "source": [
    "from time import time\n",
    "\n",
    "start = time()\n",
    "encode(large_batches)\n",
    "end = time()\n",
    "print(f\"{end-start}\")"
   ]
  }
 ],
 "metadata": {
  "kernelspec": {
   "display_name": ".venv",
   "language": "python",
   "name": "python3"
  },
  "language_info": {
   "codemirror_mode": {
    "name": "ipython",
    "version": 3
   },
   "file_extension": ".py",
   "mimetype": "text/x-python",
   "name": "python",
   "nbconvert_exporter": "python",
   "pygments_lexer": "ipython3",
   "version": "3.10.9"
  },
  "vscode": {
   "interpreter": {
    "hash": "bfe9facd2a803056c7d94beaa559586e38ec822d68c7c39f2e0c752e8e6533cf"
   }
  }
 },
 "nbformat": 4,
 "nbformat_minor": 4
}
